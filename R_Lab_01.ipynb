{
 "cells": [
  {
   "cell_type": "code",
   "execution_count": 9,
   "id": "d1007c68-4dbb-4aa8-9698-7e79ece4232a",
   "metadata": {},
   "outputs": [
    {
     "data": {
      "text/plain": [
       "\n",
       "\tOne Sample t-test\n",
       "\n",
       "data:  x\n",
       "t = -47.027, df = 99, p-value < 2.2e-16\n",
       "alternative hypothesis: true mean is not equal to 5\n",
       "95 percent confidence interval:\n",
       " -0.1534457  0.2638256\n",
       "sample estimates:\n",
       " mean of x \n",
       "0.05518993 \n"
      ]
     },
     "metadata": {},
     "output_type": "display_data"
    }
   ],
   "source": [
    "x <-rnorm(100)\n",
    "t.test(x,mu=5)"
   ]
  },
  {
   "cell_type": "code",
   "execution_count": 10,
   "id": "11ff57e3-0f96-4bec-b5ba-5319a158f676",
   "metadata": {},
   "outputs": [
    {
     "data": {
      "text/plain": [
       "\n",
       "\tWelch Two Sample t-test\n",
       "\n",
       "data:  x1 and y1\n",
       "t = 0.051606, df = 197.65, p-value = 0.9589\n",
       "alternative hypothesis: true difference in means is not equal to 0\n",
       "95 percent confidence interval:\n",
       " -0.2622802  0.2763762\n",
       "sample estimates:\n",
       "mean of x mean of y \n",
       "0.1472362 0.1401883 \n"
      ]
     },
     "metadata": {},
     "output_type": "display_data"
    }
   ],
   "source": [
    "x1<-rnorm(100)\n",
    "y1<-rnorm(100)\n",
    "t.test(x1,y1)"
   ]
  },
  {
   "cell_type": "code",
   "execution_count": 11,
   "id": "91701554-c777-43d1-9aa5-50ed8f58dc55",
   "metadata": {},
   "outputs": [
    {
     "data": {
      "text/plain": [
       "\n",
       "\tOne Sample t-test\n",
       "\n",
       "data:  x2\n",
       "t = -31.652, df = 99, p-value = 1\n",
       "alternative hypothesis: true mean is greater than 3\n",
       "95 percent confidence interval:\n",
       " -0.1660203        Inf\n",
       "sample estimates:\n",
       "   mean of x \n",
       "-0.008218342 \n"
      ]
     },
     "metadata": {},
     "output_type": "display_data"
    }
   ],
   "source": [
    "x2<-rnorm(100)\n",
    "t.test(x2,mu=3,alternative=\"greater\")"
   ]
  },
  {
   "cell_type": "code",
   "execution_count": 19,
   "id": "92d9e8ee-7d43-4e01-b5aa-d1564b72b931",
   "metadata": {},
   "outputs": [
    {
     "data": {
      "text/plain": [
       "\n",
       "\tWilcoxon signed rank test with continuity correction\n",
       "\n",
       "data:  x3\n",
       "V = 2542, p-value = 0.9548\n",
       "alternative hypothesis: true location is not equal to 0\n"
      ]
     },
     "metadata": {},
     "output_type": "display_data"
    },
    {
     "data": {
      "text/plain": [
       "\n",
       "\tPearson's product-moment correlation\n",
       "\n",
       "data:  mtcars$mpg and mtcars$hp\n",
       "t = -6.7424, df = 30, p-value = 1.788e-07\n",
       "alternative hypothesis: true correlation is not equal to 0\n",
       "95 percent confidence interval:\n",
       " -0.8852686 -0.5860994\n",
       "sample estimates:\n",
       "       cor \n",
       "-0.7761684 \n"
      ]
     },
     "metadata": {},
     "output_type": "display_data"
    }
   ],
   "source": [
    "x3<-rnorm(100)\n",
    "wilcox.test(x3,exact=FALSE)\n",
    "cor.test(mtcars$mpg,mtcars$hp)"
   ]
  },
  {
   "cell_type": "code",
   "execution_count": null,
   "id": "807c739f-1184-4677-9383-bd605f43f64f",
   "metadata": {},
   "outputs": [],
   "source": []
  }
 ],
 "metadata": {
  "kernelspec": {
   "display_name": "R",
   "language": "R",
   "name": "ir"
  },
  "language_info": {
   "codemirror_mode": "r",
   "file_extension": ".r",
   "mimetype": "text/x-r-source",
   "name": "R",
   "pygments_lexer": "r",
   "version": "4.3.3"
  }
 },
 "nbformat": 4,
 "nbformat_minor": 5
}

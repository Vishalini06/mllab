{
 "cells": [
  {
   "cell_type": "code",
   "execution_count": 33,
   "id": "0071f47a-008b-433e-8f56-d0a33e03bfcc",
   "metadata": {},
   "outputs": [],
   "source": [
    "import pandas as pd\n",
    "import seaborn as sns\n",
    "import matplotlib.pyplot as plt"
   ]
  },
  {
   "cell_type": "code",
   "execution_count": 34,
   "id": "1541e11b-9fa9-4767-8b34-c099925aa1e9",
   "metadata": {},
   "outputs": [
    {
     "data": {
      "text/html": [
       "<div>\n",
       "<style scoped>\n",
       "    .dataframe tbody tr th:only-of-type {\n",
       "        vertical-align: middle;\n",
       "    }\n",
       "\n",
       "    .dataframe tbody tr th {\n",
       "        vertical-align: top;\n",
       "    }\n",
       "\n",
       "    .dataframe thead th {\n",
       "        text-align: right;\n",
       "    }\n",
       "</style>\n",
       "<table border=\"1\" class=\"dataframe\">\n",
       "  <thead>\n",
       "    <tr style=\"text-align: right;\">\n",
       "      <th></th>\n",
       "      <th>Label</th>\n",
       "      <th>EmailText</th>\n",
       "    </tr>\n",
       "  </thead>\n",
       "  <tbody>\n",
       "    <tr>\n",
       "      <th>0</th>\n",
       "      <td>ham</td>\n",
       "      <td>Go until jurong point, crazy.. Available only ...</td>\n",
       "    </tr>\n",
       "    <tr>\n",
       "      <th>1</th>\n",
       "      <td>ham</td>\n",
       "      <td>Ok lar... Joking wif u oni...</td>\n",
       "    </tr>\n",
       "    <tr>\n",
       "      <th>2</th>\n",
       "      <td>spam</td>\n",
       "      <td>Free entry in 2 a wkly comp to win FA Cup fina...</td>\n",
       "    </tr>\n",
       "    <tr>\n",
       "      <th>3</th>\n",
       "      <td>ham</td>\n",
       "      <td>U dun say so early hor... U c already then say...</td>\n",
       "    </tr>\n",
       "    <tr>\n",
       "      <th>4</th>\n",
       "      <td>ham</td>\n",
       "      <td>Nah I don't think he goes to usf, he lives aro...</td>\n",
       "    </tr>\n",
       "  </tbody>\n",
       "</table>\n",
       "</div>"
      ],
      "text/plain": [
       "  Label                                          EmailText\n",
       "0   ham  Go until jurong point, crazy.. Available only ...\n",
       "1   ham                      Ok lar... Joking wif u oni...\n",
       "2  spam  Free entry in 2 a wkly comp to win FA Cup fina...\n",
       "3   ham  U dun say so early hor... U c already then say...\n",
       "4   ham  Nah I don't think he goes to usf, he lives aro..."
      ]
     },
     "execution_count": 34,
     "metadata": {},
     "output_type": "execute_result"
    }
   ],
   "source": [
    "spam = pd.read_csv(\"datasets/spam.csv\")\n",
    "spam.head()"
   ]
  },
  {
   "cell_type": "code",
   "execution_count": 35,
   "id": "5daf7141-5d01-4962-8379-e1aa562dac15",
   "metadata": {},
   "outputs": [
    {
     "data": {
      "text/plain": [
       "(5572, 2)"
      ]
     },
     "execution_count": 35,
     "metadata": {},
     "output_type": "execute_result"
    }
   ],
   "source": [
    "spam.shape"
   ]
  },
  {
   "cell_type": "code",
   "execution_count": 36,
   "id": "555ac7d3-dc0a-43aa-a6ee-6a55402281e2",
   "metadata": {},
   "outputs": [
    {
     "data": {
      "text/plain": [
       "Index(['Label', 'EmailText'], dtype='object')"
      ]
     },
     "execution_count": 36,
     "metadata": {},
     "output_type": "execute_result"
    }
   ],
   "source": [
    "spam.columns"
   ]
  },
  {
   "cell_type": "code",
   "execution_count": 37,
   "id": "0aebe120-6475-4fa9-9a19-a4ecca472db3",
   "metadata": {},
   "outputs": [
    {
     "data": {
      "text/html": [
       "<div>\n",
       "<style scoped>\n",
       "    .dataframe tbody tr th:only-of-type {\n",
       "        vertical-align: middle;\n",
       "    }\n",
       "\n",
       "    .dataframe tbody tr th {\n",
       "        vertical-align: top;\n",
       "    }\n",
       "\n",
       "    .dataframe thead th {\n",
       "        text-align: right;\n",
       "    }\n",
       "</style>\n",
       "<table border=\"1\" class=\"dataframe\">\n",
       "  <thead>\n",
       "    <tr style=\"text-align: right;\">\n",
       "      <th></th>\n",
       "      <th>Label</th>\n",
       "      <th>EmailText</th>\n",
       "    </tr>\n",
       "  </thead>\n",
       "  <tbody>\n",
       "    <tr>\n",
       "      <th>count</th>\n",
       "      <td>5572</td>\n",
       "      <td>5572</td>\n",
       "    </tr>\n",
       "    <tr>\n",
       "      <th>unique</th>\n",
       "      <td>2</td>\n",
       "      <td>5169</td>\n",
       "    </tr>\n",
       "    <tr>\n",
       "      <th>top</th>\n",
       "      <td>ham</td>\n",
       "      <td>Sorry, I'll call later</td>\n",
       "    </tr>\n",
       "    <tr>\n",
       "      <th>freq</th>\n",
       "      <td>4825</td>\n",
       "      <td>30</td>\n",
       "    </tr>\n",
       "  </tbody>\n",
       "</table>\n",
       "</div>"
      ],
      "text/plain": [
       "       Label               EmailText\n",
       "count   5572                    5572\n",
       "unique     2                    5169\n",
       "top      ham  Sorry, I'll call later\n",
       "freq    4825                      30"
      ]
     },
     "execution_count": 37,
     "metadata": {},
     "output_type": "execute_result"
    }
   ],
   "source": [
    "spam.describe()"
   ]
  },
  {
   "cell_type": "code",
   "execution_count": 38,
   "id": "f92dd7a8-658a-47e2-9636-4cb936d8fa03",
   "metadata": {},
   "outputs": [
    {
     "name": "stdout",
     "output_type": "stream",
     "text": [
      "<class 'pandas.core.frame.DataFrame'>\n",
      "RangeIndex: 5572 entries, 0 to 5571\n",
      "Data columns (total 2 columns):\n",
      " #   Column     Non-Null Count  Dtype \n",
      "---  ------     --------------  ----- \n",
      " 0   Label      5572 non-null   object\n",
      " 1   EmailText  5572 non-null   object\n",
      "dtypes: object(2)\n",
      "memory usage: 87.2+ KB\n"
     ]
    }
   ],
   "source": [
    "spam.info()"
   ]
  },
  {
   "cell_type": "code",
   "execution_count": 39,
   "id": "27e6d47a-44d8-4d03-a573-c219d7cb2008",
   "metadata": {},
   "outputs": [
    {
     "data": {
      "text/plain": [
       "Label\n",
       "ham     4825\n",
       "spam     747\n",
       "Name: count, dtype: int64"
      ]
     },
     "execution_count": 39,
     "metadata": {},
     "output_type": "execute_result"
    }
   ],
   "source": [
    "spam[\"Label\"].value_counts()"
   ]
  },
  {
   "cell_type": "code",
   "execution_count": 40,
   "id": "c5eb50fd-a3c4-4d5c-a465-0aa3616b89fb",
   "metadata": {},
   "outputs": [
    {
     "data": {
      "image/png": "[encoded data removed]",
      "text/plain": [
       "<Figure size 640x480 with 1 Axes>"
      ]
     },
     "metadata": {},
     "output_type": "display_data"
    }
   ],
   "source": [
    "sns.countplot(data=spam, x=spam[\"Label\"]).set_title(\n",
    "    \"Amount of spam and no-spam messages\"\n",
    ")\n",
    "plt.show()"
   ]
  },
  {
   "cell_type": "code",
   "execution_count": 65,
   "id": "8e9602e2-7a06-4889-a1c1-4f37cc653e8d",
   "metadata": {},
   "outputs": [
    {
     "name": "stderr",
     "output_type": "stream",
     "text": [
      "/tmp/ipykernel_7174/765170521.py:1: FutureWarning: pandas.value_counts is deprecated and will be removed in a future version. Use pd.Series(obj).value_counts() instead.\n",
      "  count_Class = pd.value_counts(spam.Label, sort=True)\n",
      "/tmp/ipykernel_7174/765170521.py:3: FutureWarning: Series.__getitem__ treating keys as positions is deprecated. In a future version, integer keys will always be treated as labels (consistent with DataFrame behavior). To access a value by position, use `ser.iloc[pos]`\n",
      "  sizes = [count_Class[0], count_Class[1]]\n"
     ]
    },
    {
     "data": {
      "image/png": "[encoded data removed]",
      "text/plain": [
       "<Figure size 640x480 with 1 Axes>"
      ]
     },
     "metadata": {},
     "output_type": "display_data"
    }
   ],
   "source": [
    "count_Class = pd.value_counts(spam.Label, sort=True)\n",
    "labels = \"Ham\", \"Spam\"\n",
    "sizes = [count_Class[0], count_Class[1]]\n",
    "colors = [\"gold\", \"yellowgreen\"]  # 'lightcoral', 'lightskyblue'\n",
    "explode = (0.1, 0.1)  # explode 1st slice\n",
    "\n",
    "plt.pie(\n",
    "    sizes,\n",
    "    explode=explode,\n",
    "    labels=labels,\n",
    "    colors=colors,\n",
    "    autopct=\"%1.1f%%\",\n",
    "    shadow=True,\n",
    "    startangle=140,\n",
    ")\n",
    "plt.axis(\"equal\")\n",
    "plt.show()"
   ]
  },
  {
   "cell_type": "code",
   "execution_count": 42,
   "id": "6a17b23a-9f70-4fe4-9ca7-bcffbe808862",
   "metadata": {},
   "outputs": [
    {
     "data": {
      "text/plain": [
       "0    Go until jurong point, crazy.. Available only ...\n",
       "1                        Ok lar... Joking wif u oni...\n",
       "2    Free entry in 2 a wkly comp to win FA Cup fina...\n",
       "3    U dun say so early hor... U c already then say...\n",
       "4    Nah I don't think he goes to usf, he lives aro...\n",
       "Name: EmailText, dtype: object"
      ]
     },
     "execution_count": 42,
     "metadata": {},
     "output_type": "execute_result"
    }
   ],
   "source": [
    "X = spam[\"EmailText\"]\n",
    "X.head()"
   ]
  },
  {
   "cell_type": "code",
   "execution_count": 43,
   "id": "d1389e41-0516-4e4e-9764-0521641c5917",
   "metadata": {},
   "outputs": [
    {
     "data": {
      "text/plain": [
       "0     ham\n",
       "1     ham\n",
       "2    spam\n",
       "3     ham\n",
       "4     ham\n",
       "Name: Label, dtype: object"
      ]
     },
     "execution_count": 43,
     "metadata": {},
     "output_type": "execute_result"
    }
   ],
   "source": [
    "y = spam[\"Label\"]\n",
    "y.head()"
   ]
  },
  {
   "cell_type": "code",
   "execution_count": 44,
   "id": "bd11e531-3ed9-43d3-b525-0d6876b5c076",
   "metadata": {},
   "outputs": [],
   "source": [
    "from sklearn.model_selection import train_test_split\n",
    "\n",
    "X_train, X_test, y_train, y_test = train_test_split(\n",
    "    X, y, test_size=0.20, random_state=0\n",
    ")"
   ]
  },
  {
   "cell_type": "code",
   "execution_count": 45,
   "id": "c56bfb60-e318-4606-9173-927f0e3abef2",
   "metadata": {},
   "outputs": [
    {
     "name": "stdout",
     "output_type": "stream",
     "text": [
      "(4457,)\n",
      "(4457,)\n"
     ]
    }
   ],
   "source": [
    "print(X_train.shape)\n",
    "print(y_train.shape)"
   ]
  },
  {
   "cell_type": "code",
   "execution_count": 46,
   "id": "eab714e7-2da9-49cd-b1ac-efa6f32ea977",
   "metadata": {},
   "outputs": [
    {
     "name": "stdout",
     "output_type": "stream",
     "text": [
      "(1115,)\n",
      "(1115,)\n"
     ]
    }
   ],
   "source": [
    "print(X_test.shape)\n",
    "print(y_test.shape)"
   ]
  },
  {
   "cell_type": "code",
   "execution_count": 47,
   "id": "be8af556-072d-4b21-a9dd-1631ab6f25c6",
   "metadata": {},
   "outputs": [],
   "source": [
    "from sklearn.feature_extraction.text import CountVectorizer\n",
    "\n",
    "cv = CountVectorizer()\n",
    "trainCV = cv.fit_transform(X_train)\n",
    "testCV = cv.transform(X_test)"
   ]
  },
  {
   "cell_type": "code",
   "execution_count": 48,
   "id": "14376b55-01cf-484c-8ff6-7051a509be39",
   "metadata": {},
   "outputs": [],
   "source": [
    "from sklearn.naive_bayes import MultinomialNB\n",
    "\n",
    "naive_bayes = MultinomialNB()\n",
    "naive_bayes.fit(trainCV, y_train)\n",
    "pred_NB = naive_bayes.predict(testCV)"
   ]
  },
  {
   "cell_type": "code",
   "execution_count": 49,
   "id": "ebb45d39-151b-45fc-942a-444c9cbf05de",
   "metadata": {},
   "outputs": [
    {
     "data": {
      "text/plain": [
       "0.9874439461883409"
      ]
     },
     "execution_count": 49,
     "metadata": {},
     "output_type": "execute_result"
    }
   ],
   "source": [
    "from sklearn.metrics import accuracy_score\n",
    "\n",
    "Accuracy_Score_NB = accuracy_score(y_test, pred_NB)\n",
    "Accuracy_Score_NB"
   ]
  },
  {
   "cell_type": "code",
   "execution_count": 50,
   "id": "3570889a-0c2b-4bf8-a334-3a898fe6034e",
   "metadata": {},
   "outputs": [],
   "source": [
    "from sklearn.neighbors import KNeighborsClassifier\n",
    "\n",
    "classifier_knn = KNeighborsClassifier()\n",
    "classifier_knn.fit(trainCV, y_train)\n",
    "pred_knn = classifier_knn.predict(testCV)"
   ]
  },
  {
   "cell_type": "code",
   "execution_count": 51,
   "id": "10a884b9-a2b7-41c2-960a-2b806f897a5f",
   "metadata": {},
   "outputs": [
    {
     "data": {
      "text/plain": [
       "0.9085201793721973"
      ]
     },
     "execution_count": 51,
     "metadata": {},
     "output_type": "execute_result"
    }
   ],
   "source": [
    "Accuracy_Score_knn = accuracy_score(y_test, pred_knn)\n",
    "Accuracy_Score_knn"
   ]
  },
  {
   "cell_type": "code",
   "execution_count": 52,
   "id": "f69b3c24-7eb8-4296-93be-e55b695f0bfc",
   "metadata": {},
   "outputs": [],
   "source": [
    "from sklearn.svm import SVC\n",
    "\n",
    "classifier_svm_linear = SVC(kernel=\"linear\")\n",
    "classifier_svm_linear.fit(trainCV, y_train)\n",
    "pred_svm_linear = classifier_svm_linear.predict(testCV)"
   ]
  },
  {
   "cell_type": "code",
   "execution_count": 53,
   "id": "576db880-0fb3-41b1-99aa-10ead8c8fe57",
   "metadata": {},
   "outputs": [
    {
     "data": {
      "text/plain": [
       "0.9811659192825112"
      ]
     },
     "execution_count": 53,
     "metadata": {},
     "output_type": "execute_result"
    }
   ],
   "source": [
    "Accuracy_Score_SVM_Linear = accuracy_score(y_test, pred_svm_linear)\n",
    "Accuracy_Score_SVM_Linear"
   ]
  },
  {
   "cell_type": "code",
   "execution_count": 54,
   "id": "21049b5d-082a-4c95-a70d-a52b6227cc72",
   "metadata": {},
   "outputs": [],
   "source": [
    "classifier_svm_poly = SVC(kernel=\"poly\")\n",
    "classifier_svm_poly.fit(trainCV, y_train)\n",
    "pred_svm_poly = classifier_svm_poly.predict(testCV)"
   ]
  },
  {
   "cell_type": "code",
   "execution_count": 55,
   "id": "0f92c479-2d4c-4b00-847c-35bd082dd559",
   "metadata": {},
   "outputs": [
    {
     "data": {
      "text/plain": [
       "0.9417040358744395"
      ]
     },
     "execution_count": 55,
     "metadata": {},
     "output_type": "execute_result"
    }
   ],
   "source": [
    "Accuracy_Score_SVM_Polynomial = accuracy_score(y_test, pred_svm_poly)\n",
    "Accuracy_Score_SVM_Polynomial"
   ]
  },
  {
   "cell_type": "code",
   "execution_count": 56,
   "id": "74e926f4-0eef-4830-b95c-8a23230c4b73",
   "metadata": {},
   "outputs": [],
   "source": [
    "classifier_svm_sigmoid = SVC(kernel=\"sigmoid\")\n",
    "classifier_svm_sigmoid.fit(trainCV, y_train)\n",
    "pred_svm_sigmoid = classifier_svm_sigmoid.predict(testCV)"
   ]
  },
  {
   "cell_type": "code",
   "execution_count": 57,
   "id": "b130ed3c-e35c-4559-b3b1-25405ced547c",
   "metadata": {},
   "outputs": [
    {
     "data": {
      "text/plain": [
       "0.9300448430493273"
      ]
     },
     "execution_count": 57,
     "metadata": {},
     "output_type": "execute_result"
    }
   ],
   "source": [
    "Accuracy_Score_svm_Sigmoid = accuracy_score(y_test, pred_svm_sigmoid)\n",
    "Accuracy_Score_svm_Sigmoid"
   ]
  },
  {
   "cell_type": "code",
   "execution_count": 66,
   "id": "0e8087a6-fbd9-4dc0-8f61-695a3da7ebdc",
   "metadata": {},
   "outputs": [],
   "source": [
    "classifier_svm_rbf = SVC(kernel=\"rbf\")\n",
    "classifier_svm_rbf.fit(trainCV, y_train)\n",
    "pred_svm_rbf = classifier_svm_rbf.predict(testCV)"
   ]
  },
  {
   "cell_type": "code",
   "execution_count": 67,
   "id": "abf0b5ed-f78f-4b22-b882-dd153404ac88",
   "metadata": {},
   "outputs": [
    {
     "data": {
      "text/plain": [
       "0.9766816143497757"
      ]
     },
     "execution_count": 67,
     "metadata": {},
     "output_type": "execute_result"
    }
   ],
   "source": [
    "Accuracy_Score_SVM_Gaussion = accuracy_score(y_test, pred_svm_rbf)\n",
    "Accuracy_Score_SVM_Gaussion"
   ]
  },
  {
   "cell_type": "code",
   "execution_count": 68,
   "id": "bc817db7-74b4-4eec-977f-ca987e58dc33",
   "metadata": {},
   "outputs": [],
   "source": [
    "from sklearn.tree import DecisionTreeClassifier\n",
    "\n",
    "classifier_dt = DecisionTreeClassifier()\n",
    "classifier_dt.fit(trainCV, y_train)\n",
    "pred_dt = classifier_dt.predict(testCV)"
   ]
  },
  {
   "cell_type": "code",
   "execution_count": 69,
   "id": "1f508332-670b-410e-a2a4-3cf65061282a",
   "metadata": {},
   "outputs": [
    {
     "data": {
      "text/plain": [
       "0.9632286995515695"
      ]
     },
     "execution_count": 69,
     "metadata": {},
     "output_type": "execute_result"
    }
   ],
   "source": [
    "Accuracy_Score_dt = accuracy_score(y_test, pred_dt)\n",
    "Accuracy_Score_dt"
   ]
  },
  {
   "cell_type": "code",
   "execution_count": 70,
   "id": "707473d5-161b-46c1-bbdb-957d48064f52",
   "metadata": {},
   "outputs": [],
   "source": [
    "from sklearn.ensemble import RandomForestClassifier\n",
    "\n",
    "classifier_rf = RandomForestClassifier()\n",
    "classifier_rf.fit(trainCV, y_train)\n",
    "pred_rf = classifier_rf.predict(testCV)"
   ]
  },
  {
   "cell_type": "code",
   "execution_count": 71,
   "id": "4f813dca-6a59-41d7-a264-1d65fbabe457",
   "metadata": {},
   "outputs": [
    {
     "data": {
      "text/plain": [
       "0.968609865470852"
      ]
     },
     "execution_count": 71,
     "metadata": {},
     "output_type": "execute_result"
    }
   ],
   "source": [
    "Accuracy_Score_rf = accuracy_score(y_test, pred_rf)\n",
    "Accuracy_Score_rf"
   ]
  },
  {
   "cell_type": "code",
   "execution_count": 72,
   "id": "44ada3ec-94d7-4d5f-9653-375f4772d596",
   "metadata": {},
   "outputs": [
    {
     "name": "stdout",
     "output_type": "stream",
     "text": [
      "K-Nearest Neighbors = 0.9085201793721973\n",
      "Naive Bayes = 0.9874439461883409\n",
      "Support Vector Machine Linear = 0.9811659192825112\n",
      "Support Vector Machine Gaussion = 0.9766816143497757\n",
      "Support Vector Machine Polynomial = 0.9417040358744395\n",
      "Support Vector Machine Sigmoid = 0.9300448430493273\n",
      "Decision Tree = 0.9632286995515695\n",
      "Random Forest = 0.968609865470852\n"
     ]
    }
   ],
   "source": [
    "print(\"K-Nearest Neighbors =\", Accuracy_Score_knn)\n",
    "print(\"Naive Bayes =\", Accuracy_Score_NB)\n",
    "print(\"Support Vector Machine Linear =\", Accuracy_Score_SVM_Linear)\n",
    "print(\"Support Vector Machine Gaussion =\", Accuracy_Score_SVM_Gaussion)\n",
    "print(\"Support Vector Machine Polynomial =\", Accuracy_Score_SVM_Polynomial)\n",
    "print(\"Support Vector Machine Sigmoid =\", Accuracy_Score_svm_Sigmoid)\n",
    "print(\"Decision Tree =\", Accuracy_Score_dt)\n",
    "print(\"Random Forest =\", Accuracy_Score_rf)"
   ]
  },
  {
   "cell_type": "code",
   "execution_count": null,
   "id": "5b2466cd-5966-4ecf-86b4-c7ac89fc5d75",
   "metadata": {},
   "outputs": [],
   "source": []
  }
 ],
 "metadata": {
  "kernelspec": {
   "display_name": "Python 3 (ipykernel)",
   "language": "python",
   "name": "python3"
  },
  "language_info": {
   "codemirror_mode": {
    "name": "ipython",
    "version": 3
   },
   "file_extension": ".py",
   "mimetype": "text/x-python",
   "name": "python",
   "nbconvert_exporter": "python",
   "pygments_lexer": "ipython3",
   "version": "3.11.10"
  }
 },
 "nbformat": 4,
 "nbformat_minor": 5
}
